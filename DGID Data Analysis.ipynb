{
 "cells": [
  {
   "attachments": {},
   "cell_type": "markdown",
   "metadata": {},
   "source": [
    "#### This dofile guides you step by step through the data exploration. \n",
    "#### For each question, there is one or more lines of code that you have to write afterwards.\n",
    "#### When there is a question, indicate the command that allows you to get the answer,\n",
    "#### as well as the answer (but this one in comment).\n",
    "#### The dofile that you will give me back must be as clean and clear as possible. \n",
    "#### And it must be enough to click on \"Run\" to get all the results."
   ]
  },
  {
   "attachments": {},
   "cell_type": "markdown",
   "metadata": {},
   "source": [
    "############\n",
    "\n",
    "### TEST : 1 #\n",
    "\n",
    "############ \n",
    "\n",
    "\n",
    "### Q1 : Load the database suivi_distribution_dossiers_photos.xlsx in Python"
   ]
  },
  {
   "cell_type": "code",
   "execution_count": 1,
   "metadata": {},
   "outputs": [],
   "source": [
    "#Import the necessary libraries\n",
    "import pandas as pd"
   ]
  },
  {
   "cell_type": "code",
   "execution_count": 95,
   "metadata": {},
   "outputs": [],
   "source": [
    "suivi_distribution=pd.read_excel('suivi_distribution_dossiers_photos.xlsx')"
   ]
  },
  {
   "cell_type": "code",
   "execution_count": 96,
   "metadata": {},
   "outputs": [
    {
     "data": {
      "text/html": [
       "<div>\n",
       "<style scoped>\n",
       "    .dataframe tbody tr th:only-of-type {\n",
       "        vertical-align: middle;\n",
       "    }\n",
       "\n",
       "    .dataframe tbody tr th {\n",
       "        vertical-align: top;\n",
       "    }\n",
       "\n",
       "    .dataframe thead th {\n",
       "        text-align: right;\n",
       "    }\n",
       "</style>\n",
       "<table border=\"1\" class=\"dataframe\">\n",
       "  <thead>\n",
       "    <tr style=\"text-align: right;\">\n",
       "      <th></th>\n",
       "      <th>NOM_DOSSIER</th>\n",
       "      <th>NOMBRE_PHOTOS</th>\n",
       "      <th>NOMBRE DE PHOTO NEW</th>\n",
       "      <th>CONTIENT_TIERS</th>\n",
       "      <th>STATUT</th>\n",
       "      <th>TIERS_AGENT</th>\n",
       "      <th>TIERS_AGENT_2</th>\n",
       "      <th>TIERS_DATE_DONNE</th>\n",
       "      <th>CONTIENT_SALAIRES</th>\n",
       "    </tr>\n",
       "  </thead>\n",
       "  <tbody>\n",
       "    <tr>\n",
       "      <th>0</th>\n",
       "      <td>01_02_17_PMB</td>\n",
       "      <td>NaN</td>\n",
       "      <td>246.0</td>\n",
       "      <td>NaN</td>\n",
       "      <td>NaN</td>\n",
       "      <td>NaN</td>\n",
       "      <td>NaN</td>\n",
       "      <td>NaN</td>\n",
       "      <td>NaN</td>\n",
       "    </tr>\n",
       "    <tr>\n",
       "      <th>1</th>\n",
       "      <td>01_03_17_PMB</td>\n",
       "      <td>NaN</td>\n",
       "      <td>455.0</td>\n",
       "      <td>NaN</td>\n",
       "      <td>NaN</td>\n",
       "      <td>NaN</td>\n",
       "      <td>NaN</td>\n",
       "      <td>NaN</td>\n",
       "      <td>NaN</td>\n",
       "    </tr>\n",
       "    <tr>\n",
       "      <th>2</th>\n",
       "      <td>01_06_17_PMB_CME</td>\n",
       "      <td>463</td>\n",
       "      <td>463.0</td>\n",
       "      <td>1</td>\n",
       "      <td>1.0</td>\n",
       "      <td>IS</td>\n",
       "      <td>MMF</td>\n",
       "      <td>NaN</td>\n",
       "      <td>NaN</td>\n",
       "    </tr>\n",
       "    <tr>\n",
       "      <th>3</th>\n",
       "      <td>01_08_17_PMB_CME</td>\n",
       "      <td>451</td>\n",
       "      <td>451.0</td>\n",
       "      <td>1</td>\n",
       "      <td>1.0</td>\n",
       "      <td>IS</td>\n",
       "      <td>ARN</td>\n",
       "      <td>NaN</td>\n",
       "      <td>NaN</td>\n",
       "    </tr>\n",
       "    <tr>\n",
       "      <th>4</th>\n",
       "      <td>01_12_16</td>\n",
       "      <td>NaN</td>\n",
       "      <td>43.0</td>\n",
       "      <td>NaN</td>\n",
       "      <td>0.0</td>\n",
       "      <td>NaN</td>\n",
       "      <td>NaN</td>\n",
       "      <td>NaN</td>\n",
       "      <td>1</td>\n",
       "    </tr>\n",
       "  </tbody>\n",
       "</table>\n",
       "</div>"
      ],
      "text/plain": [
       "        NOM_DOSSIER NOMBRE_PHOTOS  NOMBRE DE PHOTO NEW CONTIENT_TIERS  STATUT  \\\n",
       "0      01_02_17_PMB           NaN                246.0            NaN     NaN   \n",
       "1      01_03_17_PMB           NaN                455.0            NaN     NaN   \n",
       "2  01_06_17_PMB_CME           463                463.0              1     1.0   \n",
       "3  01_08_17_PMB_CME           451                451.0              1     1.0   \n",
       "4          01_12_16           NaN                 43.0            NaN     0.0   \n",
       "\n",
       "  TIERS_AGENT TIERS_AGENT_2 TIERS_DATE_DONNE CONTIENT_SALAIRES  \n",
       "0         NaN           NaN              NaN               NaN  \n",
       "1         NaN           NaN              NaN               NaN  \n",
       "2          IS           MMF              NaN               NaN  \n",
       "3          IS           ARN              NaN               NaN  \n",
       "4         NaN           NaN              NaN                 1  "
      ]
     },
     "execution_count": 96,
     "metadata": {},
     "output_type": "execute_result"
    }
   ],
   "source": [
    "suivi_distribution.head()"
   ]
  },
  {
   "attachments": {},
   "cell_type": "markdown",
   "metadata": {},
   "source": [
    "### Q2: How many observations are there?"
   ]
  },
  {
   "cell_type": "code",
   "execution_count": 97,
   "metadata": {},
   "outputs": [
    {
     "name": "stdout",
     "output_type": "stream",
     "text": [
      "Number of observations in the dataset:  506\n"
     ]
    }
   ],
   "source": [
    "#Let's display the number of observations in the dataset\n",
    "print('Number of observations in the dataset: ',len(suivi_distribution))"
   ]
  },
  {
   "attachments": {},
   "cell_type": "markdown",
   "metadata": {},
   "source": [
    "### Q3: In how many cases is the field NOM_DOSSIER empty?"
   ]
  },
  {
   "cell_type": "code",
   "execution_count": 98,
   "metadata": {},
   "outputs": [
    {
     "name": "stdout",
     "output_type": "stream",
     "text": [
      "Number of times the Nom_Dossier field values is empty:  3\n"
     ]
    }
   ],
   "source": [
    "#Let's count the number of times the file_name field values is empty\n",
    "print('Number of times the Nom_Dossier field values is empty: ',len(suivi_distribution[suivi_distribution['NOM_DOSSIER'].isnull()]))"
   ]
  },
  {
   "attachments": {},
   "cell_type": "markdown",
   "metadata": {},
   "source": [
    "### Q4: Delete the observations for which the field NOM_DOSSIER is empty"
   ]
  },
  {
   "cell_type": "code",
   "execution_count": 99,
   "metadata": {},
   "outputs": [],
   "source": [
    "#Delete the observations for which the field NOM_DOSSIER is empty.\n",
    "suivi_distribution=suivi_distribution.dropna(subset=[\"NOM_DOSSIER\"])"
   ]
  },
  {
   "attachments": {},
   "cell_type": "markdown",
   "metadata": {},
   "source": [
    "### Q5: Delete duplicates (observations that appear several times in the database)"
   ]
  },
  {
   "cell_type": "code",
   "execution_count": 100,
   "metadata": {},
   "outputs": [
    {
     "name": "stdout",
     "output_type": "stream",
     "text": [
      "Number of duplicates in the dataset:  38\n"
     ]
    }
   ],
   "source": [
    "#Let's identify the number of duplicates in the dataset\n",
    "print('Number of duplicates in the dataset: ',len(suivi_distribution[suivi_distribution.duplicated()]))"
   ]
  },
  {
   "cell_type": "code",
   "execution_count": 101,
   "metadata": {},
   "outputs": [],
   "source": [
    "#Let's delete the duplicates\n",
    "suivi_distribution=suivi_distribution.drop_duplicates()"
   ]
  },
  {
   "attachments": {},
   "cell_type": "markdown",
   "metadata": {},
   "source": [
    "### Q6: Make sure the NOM_DOSSIER field a unique identifier now"
   ]
  },
  {
   "cell_type": "code",
   "execution_count": 102,
   "metadata": {},
   "outputs": [
    {
     "data": {
      "text/html": [
       "<div>\n",
       "<style scoped>\n",
       "    .dataframe tbody tr th:only-of-type {\n",
       "        vertical-align: middle;\n",
       "    }\n",
       "\n",
       "    .dataframe tbody tr th {\n",
       "        vertical-align: top;\n",
       "    }\n",
       "\n",
       "    .dataframe thead th {\n",
       "        text-align: right;\n",
       "    }\n",
       "</style>\n",
       "<table border=\"1\" class=\"dataframe\">\n",
       "  <thead>\n",
       "    <tr style=\"text-align: right;\">\n",
       "      <th></th>\n",
       "      <th>NOM_DOSSIER</th>\n",
       "      <th>NOMBRE_PHOTOS</th>\n",
       "      <th>NOMBRE DE PHOTO NEW</th>\n",
       "      <th>CONTIENT_TIERS</th>\n",
       "      <th>STATUT</th>\n",
       "      <th>TIERS_AGENT</th>\n",
       "      <th>TIERS_AGENT_2</th>\n",
       "      <th>TIERS_DATE_DONNE</th>\n",
       "      <th>CONTIENT_SALAIRES</th>\n",
       "    </tr>\n",
       "  </thead>\n",
       "  <tbody>\n",
       "    <tr>\n",
       "      <th>221</th>\n",
       "      <td>18_09_17_PMB_CGE</td>\n",
       "      <td>NaN</td>\n",
       "      <td>147.0</td>\n",
       "      <td>1</td>\n",
       "      <td>1.0</td>\n",
       "      <td>SMN</td>\n",
       "      <td>NaN</td>\n",
       "      <td>2018-07-26 00:00:00</td>\n",
       "      <td>NaN</td>\n",
       "    </tr>\n",
       "    <tr>\n",
       "      <th>488</th>\n",
       "      <td>18_09_17_PMB_CGE</td>\n",
       "      <td>NaN</td>\n",
       "      <td>371.0</td>\n",
       "      <td>NaN</td>\n",
       "      <td>NaN</td>\n",
       "      <td>NaN</td>\n",
       "      <td>NaN</td>\n",
       "      <td>NaN</td>\n",
       "      <td>NaN</td>\n",
       "    </tr>\n",
       "  </tbody>\n",
       "</table>\n",
       "</div>"
      ],
      "text/plain": [
       "          NOM_DOSSIER NOMBRE_PHOTOS  NOMBRE DE PHOTO NEW CONTIENT_TIERS  \\\n",
       "221  18_09_17_PMB_CGE           NaN                147.0              1   \n",
       "488  18_09_17_PMB_CGE           NaN                371.0            NaN   \n",
       "\n",
       "     STATUT TIERS_AGENT TIERS_AGENT_2     TIERS_DATE_DONNE CONTIENT_SALAIRES  \n",
       "221     1.0         SMN           NaN  2018-07-26 00:00:00               NaN  \n",
       "488     NaN         NaN           NaN                  NaN               NaN  "
      ]
     },
     "execution_count": 102,
     "metadata": {},
     "output_type": "execute_result"
    }
   ],
   "source": [
    "#Let's identify the duplicates values in the field NOM_DOSSIER\n",
    "suivi_distribution[suivi_distribution.duplicated(subset=['NOM_DOSSIER'],keep=False)]"
   ]
  },
  {
   "cell_type": "code",
   "execution_count": 103,
   "metadata": {},
   "outputs": [],
   "source": [
    "#Let's replace the value '18_09_17_PMB_CGE' by the value '17_09_17_PMB_CGE' in the field NOM_DOSSIER where the field CONTENT_TIERS is empty\n",
    "suivi_distribution.loc[(suivi_distribution['NOM_DOSSIER']=='18_09_17_PMB_CGE') & (suivi_distribution['CONTIENT_TIERS'].isnull()),'NOM_DOSSIER']='17_09_17_PMB_CGE'"
   ]
  },
  {
   "cell_type": "code",
   "execution_count": 104,
   "metadata": {},
   "outputs": [
    {
     "data": {
      "text/html": [
       "<div>\n",
       "<style scoped>\n",
       "    .dataframe tbody tr th:only-of-type {\n",
       "        vertical-align: middle;\n",
       "    }\n",
       "\n",
       "    .dataframe tbody tr th {\n",
       "        vertical-align: top;\n",
       "    }\n",
       "\n",
       "    .dataframe thead th {\n",
       "        text-align: right;\n",
       "    }\n",
       "</style>\n",
       "<table border=\"1\" class=\"dataframe\">\n",
       "  <thead>\n",
       "    <tr style=\"text-align: right;\">\n",
       "      <th></th>\n",
       "      <th>NOM_DOSSIER</th>\n",
       "      <th>NOMBRE_PHOTOS</th>\n",
       "      <th>NOMBRE DE PHOTO NEW</th>\n",
       "      <th>CONTIENT_TIERS</th>\n",
       "      <th>STATUT</th>\n",
       "      <th>TIERS_AGENT</th>\n",
       "      <th>TIERS_AGENT_2</th>\n",
       "      <th>TIERS_DATE_DONNE</th>\n",
       "      <th>CONTIENT_SALAIRES</th>\n",
       "    </tr>\n",
       "  </thead>\n",
       "  <tbody>\n",
       "  </tbody>\n",
       "</table>\n",
       "</div>"
      ],
      "text/plain": [
       "Empty DataFrame\n",
       "Columns: [NOM_DOSSIER, NOMBRE_PHOTOS, NOMBRE DE PHOTO NEW, CONTIENT_TIERS, STATUT, TIERS_AGENT, TIERS_AGENT_2, TIERS_DATE_DONNE, CONTIENT_SALAIRES]\n",
       "Index: []"
      ]
     },
     "execution_count": 104,
     "metadata": {},
     "output_type": "execute_result"
    }
   ],
   "source": [
    "#Let's check if there are no more duplicates values in the field NOM_DOSSIER\n",
    "suivi_distribution[suivi_distribution.duplicated(subset=['NOM_DOSSIER'],keep=False)]"
   ]
  },
  {
   "attachments": {},
   "cell_type": "markdown",
   "metadata": {},
   "source": [
    "###  Q8 : Replace NOMBREDEPHOTONEW by its numerical version.  \n",
    "     Do the same for all the variables that seem to be numeric. \n",
    "     Force the replacement if necessary. "
   ]
  },
  {
   "cell_type": "code",
   "execution_count": 105,
   "metadata": {},
   "outputs": [
    {
     "data": {
      "text/plain": [
       "NOM_DOSSIER             object\n",
       "NOMBRE_PHOTOS           object\n",
       "NOMBRE DE PHOTO NEW    float64\n",
       "CONTIENT_TIERS          object\n",
       "STATUT                 float64\n",
       "TIERS_AGENT             object\n",
       "TIERS_AGENT_2           object\n",
       "TIERS_DATE_DONNE        object\n",
       "CONTIENT_SALAIRES       object\n",
       "dtype: object"
      ]
     },
     "execution_count": 105,
     "metadata": {},
     "output_type": "execute_result"
    }
   ],
   "source": [
    "#Let's first check the types of the different fiels in our dataset\n",
    "suivi_distribution.dtypes"
   ]
  },
  {
   "cell_type": "code",
   "execution_count": 106,
   "metadata": {},
   "outputs": [],
   "source": [
    "#Let's convert the field NOMBRE_PHOTOS to a string\n",
    "suivi_distribution['NOMBRE_PHOTOS']=suivi_distribution['NOMBRE_PHOTOS'].astype(str)"
   ]
  },
  {
   "cell_type": "code",
   "execution_count": 107,
   "metadata": {},
   "outputs": [],
   "source": [
    "#Let's removing all the leading and trailing spaces in the field NOMBRE_PHOTOS\n",
    "suivi_distribution['NOMBRE_PHOTOS']=suivi_distribution['NOMBRE_PHOTOS'].str.strip()"
   ]
  },
  {
   "cell_type": "code",
   "execution_count": 108,
   "metadata": {},
   "outputs": [
    {
     "data": {
      "text/plain": [
       "array(['nan', '463', '451', '506', '461', '365', '371', '548', '416',\n",
       "       '367', '359', '474', '318', '411', '241', '632', '491', '456',\n",
       "       '479', '542', '413', '', '689', '354', '220', '311', '124', '559',\n",
       "       '364', '198', '271', '334', '386', '679', '238', '384', '586',\n",
       "       '475', '442', '408', '399', '356', '276', '323', '457', '298',\n",
       "       '454', '425', '478', '232', '309', '105', '460', '251', '352',\n",
       "       '335', '458', '81', '497', '0', '434', '427', '324', '436', '180',\n",
       "       '246', '527', '379', '522', '405', '109', '203', '437', '348',\n",
       "       '495', '319', '414', '402', '244', '73', '55', '313', '403', '305',\n",
       "       '366', '293', '501', '308', '35', '21', '51', '814', '300', '351',\n",
       "       '417', '123', '56', '490', '739', '346', '137', '686', '182',\n",
       "       '650', '432', '336', '338', '74', '193', '330', '390', '361',\n",
       "       '440', '789', '48', '388', '317', '410', '218', '160', '204',\n",
       "       '349', '406', '303', '290', '118', '89', '173', '14', '57', '685',\n",
       "       '469', '250', '494', '153', '31', '331', '165', '240', '102', '22',\n",
       "       '568', '223', '484', '256', '280', '111', '233', '277'],\n",
       "      dtype=object)"
      ]
     },
     "execution_count": 108,
     "metadata": {},
     "output_type": "execute_result"
    }
   ],
   "source": [
    "suivi_distribution['NOMBRE_PHOTOS'].unique()"
   ]
  },
  {
   "cell_type": "code",
   "execution_count": 109,
   "metadata": {},
   "outputs": [],
   "source": [
    "#Let's replace the 'nan', ' ' with '0' values in the field NOMBRE_PHOTOS\n",
    "suivi_distribution['NOMBRE_PHOTOS']=suivi_distribution['NOMBRE_PHOTOS'].replace(['nan',' ','', ''],'0')"
   ]
  },
  {
   "cell_type": "code",
   "execution_count": 110,
   "metadata": {},
   "outputs": [
    {
     "data": {
      "text/plain": [
       "array(['0', '463', '451', '506', '461', '365', '371', '548', '416', '367',\n",
       "       '359', '474', '318', '411', '241', '632', '491', '456', '479',\n",
       "       '542', '413', '689', '354', '220', '311', '124', '559', '364',\n",
       "       '198', '271', '334', '386', '679', '238', '384', '586', '475',\n",
       "       '442', '408', '399', '356', '276', '323', '457', '298', '454',\n",
       "       '425', '478', '232', '309', '105', '460', '251', '352', '335',\n",
       "       '458', '81', '497', '434', '427', '324', '436', '180', '246',\n",
       "       '527', '379', '522', '405', '109', '203', '437', '348', '495',\n",
       "       '319', '414', '402', '244', '73', '55', '313', '403', '305', '366',\n",
       "       '293', '501', '308', '35', '21', '51', '814', '300', '351', '417',\n",
       "       '123', '56', '490', '739', '346', '137', '686', '182', '650',\n",
       "       '432', '336', '338', '74', '193', '330', '390', '361', '440',\n",
       "       '789', '48', '388', '317', '410', '218', '160', '204', '349',\n",
       "       '406', '303', '290', '118', '89', '173', '14', '57', '685', '469',\n",
       "       '250', '494', '153', '31', '331', '165', '240', '102', '22', '568',\n",
       "       '223', '484', '256', '280', '111', '233', '277'], dtype=object)"
      ]
     },
     "execution_count": 110,
     "metadata": {},
     "output_type": "execute_result"
    }
   ],
   "source": [
    "suivi_distribution['NOMBRE_PHOTOS'].unique()"
   ]
  },
  {
   "cell_type": "code",
   "execution_count": 111,
   "metadata": {},
   "outputs": [],
   "source": [
    "#I want to cast the field NOMBRE_PHOTOS as an integer, the STATUS as a string, the TIERS_DATE_DONNE as a datetime\n",
    "suivi_distribution['NOMBRE_PHOTOS']=suivi_distribution['NOMBRE_PHOTOS'].astype(int)\n",
    "suivi_distribution['STATUT']=suivi_distribution['STATUT'].astype(str)"
   ]
  },
  {
   "cell_type": "code",
   "execution_count": 112,
   "metadata": {},
   "outputs": [
    {
     "data": {
      "text/plain": [
       "array([  0, 463, 451, 506, 461, 365, 371, 548, 416, 367, 359, 474, 318,\n",
       "       411, 241, 632, 491, 456, 479, 542, 413, 689, 354, 220, 311, 124,\n",
       "       559, 364, 198, 271, 334, 386, 679, 238, 384, 586, 475, 442, 408,\n",
       "       399, 356, 276, 323, 457, 298, 454, 425, 478, 232, 309, 105, 460,\n",
       "       251, 352, 335, 458,  81, 497, 434, 427, 324, 436, 180, 246, 527,\n",
       "       379, 522, 405, 109, 203, 437, 348, 495, 319, 414, 402, 244,  73,\n",
       "        55, 313, 403, 305, 366, 293, 501, 308,  35,  21,  51, 814, 300,\n",
       "       351, 417, 123,  56, 490, 739, 346, 137, 686, 182, 650, 432, 336,\n",
       "       338,  74, 193, 330, 390, 361, 440, 789,  48, 388, 317, 410, 218,\n",
       "       160, 204, 349, 406, 303, 290, 118,  89, 173,  14,  57, 685, 469,\n",
       "       250, 494, 153,  31, 331, 165, 240, 102,  22, 568, 223, 484, 256,\n",
       "       280, 111, 233, 277])"
      ]
     },
     "execution_count": 112,
     "metadata": {},
     "output_type": "execute_result"
    }
   ],
   "source": [
    "suivi_distribution['NOMBRE_PHOTOS'].unique()"
   ]
  },
  {
   "attachments": {},
   "cell_type": "markdown",
   "metadata": {},
   "source": [
    "### Q10: Replace lower case characters by upper case characters for all variables that are not numeric."
   ]
  },
  {
   "cell_type": "code",
   "execution_count": 113,
   "metadata": {},
   "outputs": [
    {
     "data": {
      "text/plain": [
       "Index(['NOM_DOSSIER', 'NOMBRE_PHOTOS', 'NOMBRE DE PHOTO NEW', 'CONTIENT_TIERS',\n",
       "       'STATUT', 'TIERS_AGENT', 'TIERS_AGENT_2', 'TIERS_DATE_DONNE',\n",
       "       'CONTIENT_SALAIRES'],\n",
       "      dtype='object')"
      ]
     },
     "execution_count": 113,
     "metadata": {},
     "output_type": "execute_result"
    }
   ],
   "source": [
    "suivi_distribution.columns"
   ]
  },
  {
   "cell_type": "code",
   "execution_count": 114,
   "metadata": {},
   "outputs": [],
   "source": [
    "#Replace lower case characters by upper case characters for the variables 'NOM_DOSSIER', 'TIERS_AGENT' and 'TIERS_AGENT_2'.\n",
    "suivi_distribution['NOM_DOSSIER']=suivi_distribution['NOM_DOSSIER'].apply(lambda x: x.upper() if type(x)==str else x)\n",
    "suivi_distribution['TIERS_AGENT']=suivi_distribution['TIERS_AGENT'].apply(lambda x: x.upper() if type(x)==str else x)\n",
    "suivi_distribution['TIERS_AGENT_2']=suivi_distribution['TIERS_AGENT_2'].apply(lambda x: x.upper() if type(x)==str else x)"
   ]
  },
  {
   "attachments": {},
   "cell_type": "markdown",
   "metadata": {},
   "source": [
    "### Q11 : Empty all the boxes that contain ONLY spaces"
   ]
  },
  {
   "cell_type": "code",
   "execution_count": 115,
   "metadata": {},
   "outputs": [],
   "source": [
    "#Empty all the boxes that contain ONLY spaces\n",
    "suivi_distribution['NOM_DOSSIER']=suivi_distribution['NOM_DOSSIER'].apply(lambda x: '' if type(x)==str and x.isspace() else x)\n",
    "suivi_distribution['TIERS_AGENT']=suivi_distribution['TIERS_AGENT'].apply(lambda x: '' if type(x)==str and x.isspace() else x)\n",
    "suivi_distribution['TIERS_AGENT_2']=suivi_distribution['TIERS_AGENT_2'].apply(lambda x: '' if type(x)==str and x.isspace() else x)"
   ]
  },
  {
   "attachments": {},
   "cell_type": "markdown",
   "metadata": {},
   "source": [
    "### Q12: How many different values can the variables TIERS_AGENT and TIERS_AGENT_2 take?"
   ]
  },
  {
   "cell_type": "code",
   "execution_count": 116,
   "metadata": {},
   "outputs": [
    {
     "name": "stdout",
     "output_type": "stream",
     "text": [
      "The number of different values the variable TIERS_AGENT is taking is:  16\n"
     ]
    }
   ],
   "source": [
    "#Let's output the different values the variables TIERS_AGENT is taking\n",
    "#Bare in mind the nan values are not displayed\n",
    "print('The number of different values the variable TIERS_AGENT is taking is: ', suivi_distribution['TIERS_AGENT'].apply(lambda x: x if (x != '' and str(x) != 'nan') else None).dropna().nunique())"
   ]
  },
  {
   "cell_type": "code",
   "execution_count": 117,
   "metadata": {},
   "outputs": [
    {
     "name": "stdout",
     "output_type": "stream",
     "text": [
      "The number of different values the variable TIERS_AGENT_2 is taking is:  6\n"
     ]
    }
   ],
   "source": [
    "#Let's output the different values the variables TIERS_AGENT_2 is taking\n",
    "#Bare in mind the nan values are not displayed\n",
    "print('The number of different values the variable TIERS_AGENT_2 is taking is: ', suivi_distribution['TIERS_AGENT_2'].apply(lambda x: x if (x != '' and str(x) != 'nan') else None).dropna().nunique())"
   ]
  },
  {
   "attachments": {},
   "cell_type": "markdown",
   "metadata": {},
   "source": [
    "### Q13: In what proportion (as a percentage) is there a value in TIERS_AGENT but not in TIERS_AGENT_2? \n",
    "    # (take the number of non-empty values in TIERS_AGENT as the denominator)"
   ]
  },
  {
   "cell_type": "code",
   "execution_count": 118,
   "metadata": {},
   "outputs": [
    {
     "name": "stdout",
     "output_type": "stream",
     "text": [
      "98.2532751091703\n"
     ]
    }
   ],
   "source": [
    "# count the number of non-empty values in TIERS_AGENT and TIERS_AGENT_2\n",
    "num_agent = suivi_distribution['TIERS_AGENT'].apply(lambda x: x != '' and str(x)!='nan').sum()\n",
    "num_agent_2 = suivi_distribution['TIERS_AGENT_2'].apply(lambda x: x != '' and str(x)!='nan').sum()\n",
    "\n",
    "# count the number of non-empty values that appear in both columns\n",
    "num_both_agents = (((suivi_distribution['TIERS_AGENT'] != '') & (suivi_distribution['TIERS_AGENT'].notnull())) & ((suivi_distribution['TIERS_AGENT_2'] != '') & (suivi_distribution['TIERS_AGENT_2'].notnull()))).sum()\n",
    "\n",
    "# calculate the proportion of non-empty TIERS_AGENT values that do not have a corresponding non-empty TIERS_AGENT_2 value\n",
    "proportion = (num_agent - num_both_agents) / num_agent * 100\n",
    "\n",
    "print(proportion)"
   ]
  },
  {
   "attachments": {},
   "cell_type": "markdown",
   "metadata": {},
   "source": [
    "### Q14: Calculate the TOTAL and AVERAGE number of photos (using the variable NOMBRE DE PHOTO NEW) entered by each agent (TIERS_AGENT)."
   ]
  },
  {
   "cell_type": "code",
   "execution_count": 119,
   "metadata": {},
   "outputs": [
    {
     "data": {
      "text/html": [
       "<div>\n",
       "<style scoped>\n",
       "    .dataframe tbody tr th:only-of-type {\n",
       "        vertical-align: middle;\n",
       "    }\n",
       "\n",
       "    .dataframe tbody tr th {\n",
       "        vertical-align: top;\n",
       "    }\n",
       "\n",
       "    .dataframe thead th {\n",
       "        text-align: right;\n",
       "    }\n",
       "</style>\n",
       "<table border=\"1\" class=\"dataframe\">\n",
       "  <thead>\n",
       "    <tr style=\"text-align: right;\">\n",
       "      <th></th>\n",
       "      <th>sum</th>\n",
       "      <th>mean</th>\n",
       "    </tr>\n",
       "    <tr>\n",
       "      <th>TIERS_AGENT</th>\n",
       "      <th></th>\n",
       "      <th></th>\n",
       "    </tr>\n",
       "  </thead>\n",
       "  <tbody>\n",
       "    <tr>\n",
       "      <th></th>\n",
       "      <td>518.0</td>\n",
       "      <td>64.750000</td>\n",
       "    </tr>\n",
       "    <tr>\n",
       "      <th>AMD</th>\n",
       "      <td>2816.0</td>\n",
       "      <td>187.733333</td>\n",
       "    </tr>\n",
       "    <tr>\n",
       "      <th>ARN</th>\n",
       "      <td>6721.0</td>\n",
       "      <td>448.066667</td>\n",
       "    </tr>\n",
       "    <tr>\n",
       "      <th>CBN</th>\n",
       "      <td>975.0</td>\n",
       "      <td>162.500000</td>\n",
       "    </tr>\n",
       "    <tr>\n",
       "      <th>DD</th>\n",
       "      <td>7601.0</td>\n",
       "      <td>361.952381</td>\n",
       "    </tr>\n",
       "    <tr>\n",
       "      <th>ELM</th>\n",
       "      <td>883.0</td>\n",
       "      <td>176.600000</td>\n",
       "    </tr>\n",
       "    <tr>\n",
       "      <th>FBD</th>\n",
       "      <td>8295.0</td>\n",
       "      <td>331.800000</td>\n",
       "    </tr>\n",
       "    <tr>\n",
       "      <th>FM</th>\n",
       "      <td>1062.0</td>\n",
       "      <td>177.000000</td>\n",
       "    </tr>\n",
       "    <tr>\n",
       "      <th>IS</th>\n",
       "      <td>12335.0</td>\n",
       "      <td>397.903226</td>\n",
       "    </tr>\n",
       "    <tr>\n",
       "      <th>KD</th>\n",
       "      <td>203.0</td>\n",
       "      <td>67.666667</td>\n",
       "    </tr>\n",
       "    <tr>\n",
       "      <th>MGIN</th>\n",
       "      <td>7288.0</td>\n",
       "      <td>331.272727</td>\n",
       "    </tr>\n",
       "    <tr>\n",
       "      <th>MMF</th>\n",
       "      <td>10492.0</td>\n",
       "      <td>374.714286</td>\n",
       "    </tr>\n",
       "    <tr>\n",
       "      <th>MSB</th>\n",
       "      <td>556.0</td>\n",
       "      <td>92.666667</td>\n",
       "    </tr>\n",
       "    <tr>\n",
       "      <th>NNB</th>\n",
       "      <td>7667.0</td>\n",
       "      <td>365.095238</td>\n",
       "    </tr>\n",
       "    <tr>\n",
       "      <th>PMGS</th>\n",
       "      <td>1639.0</td>\n",
       "      <td>136.583333</td>\n",
       "    </tr>\n",
       "    <tr>\n",
       "      <th>SMN</th>\n",
       "      <td>854.0</td>\n",
       "      <td>122.000000</td>\n",
       "    </tr>\n",
       "    <tr>\n",
       "      <th>SN</th>\n",
       "      <td>1168.0</td>\n",
       "      <td>194.666667</td>\n",
       "    </tr>\n",
       "  </tbody>\n",
       "</table>\n",
       "</div>"
      ],
      "text/plain": [
       "                 sum        mean\n",
       "TIERS_AGENT                     \n",
       "               518.0   64.750000\n",
       "AMD           2816.0  187.733333\n",
       "ARN           6721.0  448.066667\n",
       "CBN            975.0  162.500000\n",
       "DD            7601.0  361.952381\n",
       "ELM            883.0  176.600000\n",
       "FBD           8295.0  331.800000\n",
       "FM            1062.0  177.000000\n",
       "IS           12335.0  397.903226\n",
       "KD             203.0   67.666667\n",
       "MGIN          7288.0  331.272727\n",
       "MMF          10492.0  374.714286\n",
       "MSB            556.0   92.666667\n",
       "NNB           7667.0  365.095238\n",
       "PMGS          1639.0  136.583333\n",
       "SMN            854.0  122.000000\n",
       "SN            1168.0  194.666667"
      ]
     },
     "execution_count": 119,
     "metadata": {},
     "output_type": "execute_result"
    }
   ],
   "source": [
    "#Calculate the TOTAL and AVERAGE number of photos (using the variable NOMBRE DE PHOTO NEW) entered by each agent (TIERS_AGENT)\n",
    "suivi_distribution.groupby('TIERS_AGENT')['NOMBRE DE PHOTO NEW'].agg(['sum','mean'])"
   ]
  },
  {
   "attachments": {},
   "cell_type": "markdown",
   "metadata": {},
   "source": [
    "### Q15: How many cases is the variable NUMBER_PHOTOS different from NOMBRE DE PHOTO NEW?"
   ]
  },
  {
   "cell_type": "code",
   "execution_count": 120,
   "metadata": {},
   "outputs": [
    {
     "data": {
      "text/plain": [
       "323"
      ]
     },
     "execution_count": 120,
     "metadata": {},
     "output_type": "execute_result"
    }
   ],
   "source": [
    "#How many cases is the variable NOMBRE_PHOTOS different from NOMBRE DE PHOTO NEW?\n",
    "len(suivi_distribution[suivi_distribution['NOMBRE_PHOTOS']!=suivi_distribution['NOMBRE DE PHOTO NEW']])"
   ]
  },
  {
   "attachments": {},
   "cell_type": "markdown",
   "metadata": {},
   "source": [
    "### Q16: With some exceptions (there are some), the variable NOM_DOSSIER is composed of three concatenated pieces of information: \n",
    "         date (day_month_year), tax center (DGE, TGE, DME, DKEDK1, DMEDK2, or DP), agent (PMB, PMBMB, AF, or MGIN), and a suffix (A2016, A2017, OTHER, A, B)\n",
    "        a) separate these elements. \n",
    "        b) calculate the total number of photos per fiscal center (assigning to DGE all the files where the indication on the fiscal center is missing)"
   ]
  },
  {
   "attachments": {},
   "cell_type": "markdown",
   "metadata": {},
   "source": [
    "#### a) Let's separate these elements"
   ]
  },
  {
   "cell_type": "code",
   "execution_count": 121,
   "metadata": {},
   "outputs": [],
   "source": [
    "#The variable NOM_DOSSIER is composed of three concatenated pieces of information: date (day_month_year),  tax center (DGE, TGE, DME, DKEDK1, DMEDK2, or DP), agent (PMB, PMBMB, AF, or MGIN' and a suffix (A2016, A2017, OTHER, A, B), separate these elements.\n",
    "suivi_distribution['Jour']=suivi_distribution['NOM_DOSSIER'].str.split('_').str[0]\n",
    "suivi_distribution['Mois']=suivi_distribution['NOM_DOSSIER'].str.split('_').str[1]\n",
    "suivi_distribution['Annee']=suivi_distribution['NOM_DOSSIER'].str.split('_').str[2]\n",
    "suivi_distribution['Centre']=suivi_distribution['NOM_DOSSIER'].str.split('_').str[3]\n",
    "suivi_distribution['Agent']=suivi_distribution['NOM_DOSSIER'].str.split('_').str[4]\n",
    "suivi_distribution['Suffixe']=suivi_distribution['NOM_DOSSIER'].str.split('_').str[5]"
   ]
  },
  {
   "attachments": {},
   "cell_type": "markdown",
   "metadata": {},
   "source": [
    "#### b) Let's calculate the total number of photos per fiscal center (assigning to DGE all the files where the indication on the fiscal center is missing)"
   ]
  },
  {
   "cell_type": "code",
   "execution_count": 122,
   "metadata": {},
   "outputs": [
    {
     "data": {
      "text/plain": [
       "Centre\n",
       "                  343\n",
       "17                111\n",
       "AF               7146\n",
       "CGE              1874\n",
       "CME              6245\n",
       "DGE               394\n",
       "DMEDK1           1055\n",
       "DMEDK1-PMBMB      691\n",
       "DP                263\n",
       "MGIN                0\n",
       "PBM              3574\n",
       "PMB             36714\n",
       "TGE               194\n",
       "Name: NOMBRE_PHOTOS, dtype: int32"
      ]
     },
     "execution_count": 122,
     "metadata": {},
     "output_type": "execute_result"
    }
   ],
   "source": [
    "#Let's calculate the total number of photos per fiscal center (assigning to DGE all the files where the indication on the fiscal center is missing)\n",
    "suivi_distribution['Centre']=suivi_distribution['Centre'].fillna('DGE')\n",
    "suivi_distribution.groupby('Centre')['NOMBRE_PHOTOS'].sum()"
   ]
  },
  {
   "attachments": {},
   "cell_type": "markdown",
   "metadata": {},
   "source": [
    "############\n",
    "  \n",
    "  # TEST: 2 # \n",
    "  \n",
    "  ############ \n",
    "  \n",
    "  ##### In this database you have 4 variables : \n",
    "  ##### IDAGENT: identifier of the agent who entered the declaration\n",
    "  ##### NAME: the name of the company that submitted the declaration\n",
    "##### NINEA: the tax identifier of the company that submitted the declaration\n",
    "##### YEAR: the year of the declaration"
   ]
  },
  {
   "attachments": {},
   "cell_type": "markdown",
   "metadata": {},
   "source": [
    "### Q1 : Load the database suivi_saisie_Salaires.xlsx\n",
    "    ### be careful to import the variable names"
   ]
  },
  {
   "cell_type": "code",
   "execution_count": 123,
   "metadata": {},
   "outputs": [],
   "source": [
    "#Let's load the data set suivi_saisie_Salaires.xlsx\n",
    "suivi_saisie=pd.read_excel('suivi_saisie_Salaires.xlsx')"
   ]
  },
  {
   "cell_type": "code",
   "execution_count": 124,
   "metadata": {},
   "outputs": [
    {
     "data": {
      "text/html": [
       "<div>\n",
       "<style scoped>\n",
       "    .dataframe tbody tr th:only-of-type {\n",
       "        vertical-align: middle;\n",
       "    }\n",
       "\n",
       "    .dataframe tbody tr th {\n",
       "        vertical-align: top;\n",
       "    }\n",
       "\n",
       "    .dataframe thead th {\n",
       "        text-align: right;\n",
       "    }\n",
       "</style>\n",
       "<table border=\"1\" class=\"dataframe\">\n",
       "  <thead>\n",
       "    <tr style=\"text-align: right;\">\n",
       "      <th></th>\n",
       "      <th>ID AGENT</th>\n",
       "      <th>NOM</th>\n",
       "      <th>NINEA</th>\n",
       "      <th>ANNEE</th>\n",
       "    </tr>\n",
       "  </thead>\n",
       "  <tbody>\n",
       "    <tr>\n",
       "      <th>0</th>\n",
       "      <td>PAF</td>\n",
       "      <td>LES</td>\n",
       "      <td>0000179222G3</td>\n",
       "      <td>2013</td>\n",
       "    </tr>\n",
       "    <tr>\n",
       "      <th>1</th>\n",
       "      <td>PAF</td>\n",
       "      <td>LES</td>\n",
       "      <td>0000179222G3</td>\n",
       "      <td>2015</td>\n",
       "    </tr>\n",
       "    <tr>\n",
       "      <th>2</th>\n",
       "      <td>PAF</td>\n",
       "      <td>LES</td>\n",
       "      <td>0000179222G3</td>\n",
       "      <td>2015</td>\n",
       "    </tr>\n",
       "  </tbody>\n",
       "</table>\n",
       "</div>"
      ],
      "text/plain": [
       "  ID AGENT  NOM         NINEA ANNEE\n",
       "0      PAF  LES  0000179222G3  2013\n",
       "1      PAF  LES  0000179222G3  2015\n",
       "2      PAF  LES  0000179222G3  2015"
      ]
     },
     "execution_count": 124,
     "metadata": {},
     "output_type": "execute_result"
    }
   ],
   "source": [
    "suivi_saisie.head(3)"
   ]
  },
  {
   "cell_type": "code",
   "execution_count": 125,
   "metadata": {},
   "outputs": [
    {
     "name": "stdout",
     "output_type": "stream",
     "text": [
      "<class 'pandas.core.frame.DataFrame'>\n",
      "RangeIndex: 25892 entries, 0 to 25891\n",
      "Data columns (total 4 columns):\n",
      " #   Column    Non-Null Count  Dtype \n",
      "---  ------    --------------  ----- \n",
      " 0   ID AGENT  25892 non-null  object\n",
      " 1   NOM       25885 non-null  object\n",
      " 2   NINEA     25154 non-null  object\n",
      " 3   ANNEE     25780 non-null  object\n",
      "dtypes: object(4)\n",
      "memory usage: 809.2+ KB\n"
     ]
    }
   ],
   "source": [
    "suivi_saisie.info()"
   ]
  },
  {
   "attachments": {},
   "cell_type": "markdown",
   "metadata": {},
   "source": [
    "### Q2: Create a variable that counts the number of duplicates per group of repeated observations. Then delete the duplicates"
   ]
  },
  {
   "cell_type": "code",
   "execution_count": 126,
   "metadata": {},
   "outputs": [],
   "source": [
    "#Let's create a variable that counts the number of duplicates per group of repeated observations. Then delete the duplicates\n",
    "suivi_saisie=suivi_saisie.drop_duplicates()"
   ]
  },
  {
   "attachments": {},
   "cell_type": "markdown",
   "metadata": {},
   "source": [
    "### NAME CLEANING #####\n",
    "  \n",
    "  ### Q3: Remove double spaces, unnecessary spaces (at the beginning or end of a box), capitalize ### everything, remove special characters...\n",
    "### ... in short, do whatever you think is best to clean up the NOM field"
   ]
  },
  {
   "cell_type": "code",
   "execution_count": 127,
   "metadata": {},
   "outputs": [
    {
     "name": "stderr",
     "output_type": "stream",
     "text": [
      "C:\\Users\\dell\\AppData\\Local\\Temp\\ipykernel_3964\\120903747.py:2: FutureWarning: The default value of regex will change from True to False in a future version.\n",
      "  suivi_saisie['NOM']=suivi_saisie['NOM'].str.replace('  ',' ', regex=True).str.strip().str.upper().str.replace('[^A-Z0-9]','')\n"
     ]
    }
   ],
   "source": [
    "#Remove double spaces, unnecessary spaces (at the beginning or end of a box), capitalize  everything, remove special characters from the field NOM\n",
    "suivi_saisie['NOM']=suivi_saisie['NOM'].str.replace('  ',' ', regex=True).str.strip().str.upper().str.replace('[^A-Z0-9]','')"
   ]
  },
  {
   "attachments": {},
   "cell_type": "markdown",
   "metadata": {},
   "source": [
    "###  Q4: remove the legal acronyms (SA, SARL, SUARL, GIE) and put them in a separate variable \n",
    "    ### - be careful not to confuse them with expressions that are not legal acronyms\n",
    "    ### e.g.: when you remove \"GIE\" do not replace TECHNOLOGY by TECHNOLO..."
   ]
  },
  {
   "cell_type": "code",
   "execution_count": 128,
   "metadata": {},
   "outputs": [
    {
     "data": {
      "text/plain": [
       "Index(['ID AGENT', 'NOM', 'NINEA', 'ANNEE'], dtype='object')"
      ]
     },
     "execution_count": 128,
     "metadata": {},
     "output_type": "execute_result"
    }
   ],
   "source": [
    "suivi_saisie.columns"
   ]
  },
  {
   "cell_type": "code",
   "execution_count": 129,
   "metadata": {},
   "outputs": [],
   "source": [
    "suivi_saisie[\"NOM\"]=suivi_saisie[\"NOM\"].astype(str)"
   ]
  },
  {
   "cell_type": "code",
   "execution_count": 130,
   "metadata": {},
   "outputs": [],
   "source": [
    "#Let's create another column that contains the following values SA, SARL, SUARL, GIE which are the first letters of the values of the field NOM\n",
    "suivi_saisie[\"company type\"]=suivi_saisie[\"NOM\"].apply(lambda x: \"GIE\" if x.startswith(\"GIE\") else \"SA\" if x.startswith(\"SA\") else \"SARL\" if x.startswith(\"SARL\") else \"SUARL\" if x.startswith(\"SUARL\") else \"Other\")"
   ]
  },
  {
   "cell_type": "code",
   "execution_count": 131,
   "metadata": {},
   "outputs": [
    {
     "data": {
      "text/html": [
       "<div>\n",
       "<style scoped>\n",
       "    .dataframe tbody tr th:only-of-type {\n",
       "        vertical-align: middle;\n",
       "    }\n",
       "\n",
       "    .dataframe tbody tr th {\n",
       "        vertical-align: top;\n",
       "    }\n",
       "\n",
       "    .dataframe thead th {\n",
       "        text-align: right;\n",
       "    }\n",
       "</style>\n",
       "<table border=\"1\" class=\"dataframe\">\n",
       "  <thead>\n",
       "    <tr style=\"text-align: right;\">\n",
       "      <th></th>\n",
       "      <th>ID AGENT</th>\n",
       "      <th>NOM</th>\n",
       "      <th>NINEA</th>\n",
       "      <th>ANNEE</th>\n",
       "      <th>company type</th>\n",
       "    </tr>\n",
       "  </thead>\n",
       "  <tbody>\n",
       "    <tr>\n",
       "      <th>0</th>\n",
       "      <td>PAF</td>\n",
       "      <td>LES</td>\n",
       "      <td>0000179222G3</td>\n",
       "      <td>2013</td>\n",
       "      <td>Other</td>\n",
       "    </tr>\n",
       "    <tr>\n",
       "      <th>1</th>\n",
       "      <td>PAF</td>\n",
       "      <td>LES</td>\n",
       "      <td>0000179222G3</td>\n",
       "      <td>2015</td>\n",
       "      <td>Other</td>\n",
       "    </tr>\n",
       "    <tr>\n",
       "      <th>3</th>\n",
       "      <td>PAF</td>\n",
       "      <td>PETROSEN</td>\n",
       "      <td>0000244982G3</td>\n",
       "      <td>2015</td>\n",
       "      <td>Other</td>\n",
       "    </tr>\n",
       "    <tr>\n",
       "      <th>7</th>\n",
       "      <td>DD</td>\n",
       "      <td>UNIPARCO</td>\n",
       "      <td>0000365922G3</td>\n",
       "      <td>2015</td>\n",
       "      <td>Other</td>\n",
       "    </tr>\n",
       "    <tr>\n",
       "      <th>10</th>\n",
       "      <td>NNB</td>\n",
       "      <td>ENTGENIECIVILCONC</td>\n",
       "      <td>0000383582G1</td>\n",
       "      <td>2015</td>\n",
       "      <td>Other</td>\n",
       "    </tr>\n",
       "    <tr>\n",
       "      <th>11</th>\n",
       "      <td>ARN</td>\n",
       "      <td>SODIALSA</td>\n",
       "      <td>0000388612G3</td>\n",
       "      <td>2015</td>\n",
       "      <td>Other</td>\n",
       "    </tr>\n",
       "    <tr>\n",
       "      <th>16</th>\n",
       "      <td>PAF</td>\n",
       "      <td>SSPC</td>\n",
       "      <td>0000715302G3</td>\n",
       "      <td>2015</td>\n",
       "      <td>Other</td>\n",
       "    </tr>\n",
       "    <tr>\n",
       "      <th>17</th>\n",
       "      <td>NNB</td>\n",
       "      <td>OCEANPESCA2SA</td>\n",
       "      <td>0000773642G3</td>\n",
       "      <td>2015</td>\n",
       "      <td>Other</td>\n",
       "    </tr>\n",
       "    <tr>\n",
       "      <th>20</th>\n",
       "      <td>PAF</td>\n",
       "      <td>JLSSA</td>\n",
       "      <td>0000814722G3</td>\n",
       "      <td>2015</td>\n",
       "      <td>Other</td>\n",
       "    </tr>\n",
       "    <tr>\n",
       "      <th>27</th>\n",
       "      <td>ARN</td>\n",
       "      <td>DELTAMEDICALSARL</td>\n",
       "      <td>0000847312G2</td>\n",
       "      <td>2015</td>\n",
       "      <td>Other</td>\n",
       "    </tr>\n",
       "  </tbody>\n",
       "</table>\n",
       "</div>"
      ],
      "text/plain": [
       "   ID AGENT                NOM         NINEA ANNEE company type\n",
       "0       PAF                LES  0000179222G3  2013        Other\n",
       "1       PAF                LES  0000179222G3  2015        Other\n",
       "3       PAF           PETROSEN  0000244982G3  2015        Other\n",
       "7        DD           UNIPARCO  0000365922G3  2015        Other\n",
       "10      NNB  ENTGENIECIVILCONC  0000383582G1  2015        Other\n",
       "11      ARN           SODIALSA  0000388612G3  2015        Other\n",
       "16      PAF               SSPC  0000715302G3  2015        Other\n",
       "17      NNB      OCEANPESCA2SA  0000773642G3  2015        Other\n",
       "20      PAF              JLSSA  0000814722G3  2015        Other\n",
       "27      ARN   DELTAMEDICALSARL  0000847312G2  2015        Other"
      ]
     },
     "execution_count": 131,
     "metadata": {},
     "output_type": "execute_result"
    }
   ],
   "source": [
    "suivi_saisie.head(10)"
   ]
  },
  {
   "attachments": {},
   "cell_type": "markdown",
   "metadata": {},
   "source": [
    "### Q5: Based on the variable NOM, how many companies' returns were entered per year? "
   ]
  },
  {
   "cell_type": "code",
   "execution_count": 132,
   "metadata": {},
   "outputs": [],
   "source": [
    "suivi_saisie[\"ANNEE\"]=suivi_saisie[\"ANNEE\"].astype(str)"
   ]
  },
  {
   "cell_type": "code",
   "execution_count": 133,
   "metadata": {},
   "outputs": [],
   "source": [
    "suivi_saisie[\"ANNEE\"]=suivi_saisie[\"ANNEE\"].apply(lambda x: x.split()[0] if \"suite\" in x else x)"
   ]
  },
  {
   "cell_type": "code",
   "execution_count": 134,
   "metadata": {},
   "outputs": [
    {
     "data": {
      "text/html": [
       "<div>\n",
       "<style scoped>\n",
       "    .dataframe tbody tr th:only-of-type {\n",
       "        vertical-align: middle;\n",
       "    }\n",
       "\n",
       "    .dataframe tbody tr th {\n",
       "        vertical-align: top;\n",
       "    }\n",
       "\n",
       "    .dataframe thead th {\n",
       "        text-align: right;\n",
       "    }\n",
       "</style>\n",
       "<table border=\"1\" class=\"dataframe\">\n",
       "  <thead>\n",
       "    <tr style=\"text-align: right;\">\n",
       "      <th></th>\n",
       "      <th>Total declarations</th>\n",
       "      <th>Number of companies</th>\n",
       "    </tr>\n",
       "    <tr>\n",
       "      <th>ANNEE</th>\n",
       "      <th></th>\n",
       "      <th></th>\n",
       "    </tr>\n",
       "  </thead>\n",
       "  <tbody>\n",
       "    <tr>\n",
       "      <th>2009</th>\n",
       "      <td>1</td>\n",
       "      <td>1</td>\n",
       "    </tr>\n",
       "    <tr>\n",
       "      <th>2011</th>\n",
       "      <td>6</td>\n",
       "      <td>6</td>\n",
       "    </tr>\n",
       "    <tr>\n",
       "      <th>2012</th>\n",
       "      <td>979</td>\n",
       "      <td>951</td>\n",
       "    </tr>\n",
       "    <tr>\n",
       "      <th>2013</th>\n",
       "      <td>1486</td>\n",
       "      <td>1428</td>\n",
       "    </tr>\n",
       "    <tr>\n",
       "      <th>2014</th>\n",
       "      <td>1597</td>\n",
       "      <td>1493</td>\n",
       "    </tr>\n",
       "    <tr>\n",
       "      <th>2015</th>\n",
       "      <td>1884</td>\n",
       "      <td>1684</td>\n",
       "    </tr>\n",
       "    <tr>\n",
       "      <th>2016</th>\n",
       "      <td>1450</td>\n",
       "      <td>1391</td>\n",
       "    </tr>\n",
       "    <tr>\n",
       "      <th>2017</th>\n",
       "      <td>1</td>\n",
       "      <td>1</td>\n",
       "    </tr>\n",
       "    <tr>\n",
       "      <th>2021</th>\n",
       "      <td>1</td>\n",
       "      <td>1</td>\n",
       "    </tr>\n",
       "    <tr>\n",
       "      <th>nan</th>\n",
       "      <td>4</td>\n",
       "      <td>4</td>\n",
       "    </tr>\n",
       "  </tbody>\n",
       "</table>\n",
       "</div>"
      ],
      "text/plain": [
       "       Total declarations  Number of companies\n",
       "ANNEE                                         \n",
       "2009                    1                    1\n",
       "2011                    6                    6\n",
       "2012                  979                  951\n",
       "2013                 1486                 1428\n",
       "2014                 1597                 1493\n",
       "2015                 1884                 1684\n",
       "2016                 1450                 1391\n",
       "2017                    1                    1\n",
       "2021                    1                    1\n",
       "nan                     4                    4"
      ]
     },
     "execution_count": 134,
     "metadata": {},
     "output_type": "execute_result"
    }
   ],
   "source": [
    "#Based on the variable NAME, how many companies' returns were entered per year? \n",
    "suivi_saisie.groupby('ANNEE')['NOM'].agg([('Total declarations', 'count'), ('Number of companies', 'nunique')])\n"
   ]
  },
  {
   "attachments": {},
   "cell_type": "markdown",
   "metadata": {},
   "source": [
    "### NINEA CLEANING ######\n",
    "  \n",
    "  ### NINEA is a 9 digit tax ID (often starting with 0's). \n",
    "  ### The problem with this database is \n",
    "    ### a) a three-character suffix (the COFI) has been added here in many cases at the end; and  \n",
    "    ### b) that the 0s at the beginning have often been discarded\n",
    "  ### We want to correct the NINEA variable by separating the real NINEA from the COFI as follows: \n",
    "  ### if FOR EXAMPLE, NINEA = 23137902G3\n",
    "  ### then we want NINEA = 002313790 and COFI = \"2G3"
   ]
  },
  {
   "attachments": {},
   "cell_type": "markdown",
   "metadata": {},
   "source": [
    "### Q6 : Remove the COFI from the NINEA variable and store it in a separate variable that you will create"
   ]
  },
  {
   "cell_type": "code",
   "execution_count": 135,
   "metadata": {},
   "outputs": [],
   "source": [
    "suivi_saisie[\"NINEA\"]=suivi_saisie[\"NINEA\"].astype(str)"
   ]
  },
  {
   "cell_type": "code",
   "execution_count": 136,
   "metadata": {},
   "outputs": [],
   "source": [
    "#I want to put the last 3 characters of the variable NINEA in a new variable called COFI and then delete the last 3 characters of the variable NINEA and then add 0's as prefix to the variable NINEA to ensure that all the values have the same length of 9 characters\n",
    "suivi_saisie[\"COFI\"]=suivi_saisie[\"NINEA\"].apply(lambda x: x[-3:])\n",
    "suivi_saisie[\"NINEA\"]=suivi_saisie[\"NINEA\"].apply(lambda x: x[:-3])"
   ]
  },
  {
   "attachments": {},
   "cell_type": "markdown",
   "metadata": {},
   "source": [
    "### Q7 : add the missing 0 to get 9 characters"
   ]
  },
  {
   "cell_type": "code",
   "execution_count": 137,
   "metadata": {},
   "outputs": [],
   "source": [
    "#add the missing 0 to get 9 characters\n",
    "suivi_saisie[\"NINEA\"]=suivi_saisie[\"NINEA\"].apply(lambda x: x.zfill(9))"
   ]
  },
  {
   "attachments": {},
   "cell_type": "markdown",
   "metadata": {},
   "source": [
    "### Q8: Based on the NINEA variable, how many companies' returns were entered per year?"
   ]
  },
  {
   "cell_type": "code",
   "execution_count": 138,
   "metadata": {},
   "outputs": [
    {
     "data": {
      "text/html": [
       "<div>\n",
       "<style scoped>\n",
       "    .dataframe tbody tr th:only-of-type {\n",
       "        vertical-align: middle;\n",
       "    }\n",
       "\n",
       "    .dataframe tbody tr th {\n",
       "        vertical-align: top;\n",
       "    }\n",
       "\n",
       "    .dataframe thead th {\n",
       "        text-align: right;\n",
       "    }\n",
       "</style>\n",
       "<table border=\"1\" class=\"dataframe\">\n",
       "  <thead>\n",
       "    <tr style=\"text-align: right;\">\n",
       "      <th></th>\n",
       "      <th>Total declarations</th>\n",
       "      <th>Number of companies</th>\n",
       "    </tr>\n",
       "    <tr>\n",
       "      <th>ANNEE</th>\n",
       "      <th></th>\n",
       "      <th></th>\n",
       "    </tr>\n",
       "  </thead>\n",
       "  <tbody>\n",
       "    <tr>\n",
       "      <th>2009</th>\n",
       "      <td>1</td>\n",
       "      <td>1</td>\n",
       "    </tr>\n",
       "    <tr>\n",
       "      <th>2011</th>\n",
       "      <td>6</td>\n",
       "      <td>6</td>\n",
       "    </tr>\n",
       "    <tr>\n",
       "      <th>2012</th>\n",
       "      <td>979</td>\n",
       "      <td>929</td>\n",
       "    </tr>\n",
       "    <tr>\n",
       "      <th>2013</th>\n",
       "      <td>1486</td>\n",
       "      <td>1380</td>\n",
       "    </tr>\n",
       "    <tr>\n",
       "      <th>2014</th>\n",
       "      <td>1597</td>\n",
       "      <td>1447</td>\n",
       "    </tr>\n",
       "    <tr>\n",
       "      <th>2015</th>\n",
       "      <td>1884</td>\n",
       "      <td>1577</td>\n",
       "    </tr>\n",
       "    <tr>\n",
       "      <th>2016</th>\n",
       "      <td>1450</td>\n",
       "      <td>1357</td>\n",
       "    </tr>\n",
       "    <tr>\n",
       "      <th>2017</th>\n",
       "      <td>1</td>\n",
       "      <td>1</td>\n",
       "    </tr>\n",
       "    <tr>\n",
       "      <th>2021</th>\n",
       "      <td>1</td>\n",
       "      <td>1</td>\n",
       "    </tr>\n",
       "    <tr>\n",
       "      <th>nan</th>\n",
       "      <td>4</td>\n",
       "      <td>4</td>\n",
       "    </tr>\n",
       "  </tbody>\n",
       "</table>\n",
       "</div>"
      ],
      "text/plain": [
       "       Total declarations  Number of companies\n",
       "ANNEE                                         \n",
       "2009                    1                    1\n",
       "2011                    6                    6\n",
       "2012                  979                  929\n",
       "2013                 1486                 1380\n",
       "2014                 1597                 1447\n",
       "2015                 1884                 1577\n",
       "2016                 1450                 1357\n",
       "2017                    1                    1\n",
       "2021                    1                    1\n",
       "nan                     4                    4"
      ]
     },
     "execution_count": 138,
     "metadata": {},
     "output_type": "execute_result"
    }
   ],
   "source": [
    "#Based on the NINEA variable, how many companies' returns were entered per year?\n",
    "suivi_saisie.groupby('ANNEE')['NINEA'].agg([('Total declarations', 'count'), ('Number of companies', 'nunique')])"
   ]
  },
  {
   "attachments": {},
   "cell_type": "markdown",
   "metadata": {},
   "source": [
    "### Q9: compare your results to Q8 and Q5 - how do you explain them? "
   ]
  },
  {
   "attachments": {},
   "cell_type": "markdown",
   "metadata": {},
   "source": [
    "### We have less number of companies when we count the number of companies wrt to the field NINEA than wrt to the field NOM. This means that there are different companies (companies with different names) that have the same NINEA"
   ]
  },
  {
   "attachments": {},
   "cell_type": "markdown",
   "metadata": {},
   "source": [
    "############\n",
    "  \n",
    "### TEST: 3 # \n",
    "  \n",
    "  ############ \n",
    "  \n",
    "###  In this base you have 7 variables that describe the decomposition of tax revenues by month year and  ### tax center \n",
    "### center: a code for the tax center\n",
    "### year: the year of tax revenue for this center\n",
    "### month: the month of tax revenue for this year and this center\n",
    "### impot_1 impot_2 impot_3: the tax revenues (in CFA francs) of three different taxes (but not all taxes ### together)\n",
    "### total : the total of tax revenues (note the total is greater than the sum of the three taxes available ### because there are other taxes for which you don't have the details here)"
   ]
  },
  {
   "attachments": {},
   "cell_type": "markdown",
   "metadata": {},
   "source": [
    "### Q1 : load the database recettes_fiscales.xlsx\n",
    "### be careful to import the variable names"
   ]
  },
  {
   "cell_type": "code",
   "execution_count": 2,
   "metadata": {},
   "outputs": [],
   "source": [
    "recettes_fiscales=pd.read_excel(\"recettes_fiscales.xlsx\")"
   ]
  },
  {
   "cell_type": "code",
   "execution_count": 3,
   "metadata": {},
   "outputs": [
    {
     "data": {
      "text/html": [
       "<div>\n",
       "<style scoped>\n",
       "    .dataframe tbody tr th:only-of-type {\n",
       "        vertical-align: middle;\n",
       "    }\n",
       "\n",
       "    .dataframe tbody tr th {\n",
       "        vertical-align: top;\n",
       "    }\n",
       "\n",
       "    .dataframe thead th {\n",
       "        text-align: right;\n",
       "    }\n",
       "</style>\n",
       "<table border=\"1\" class=\"dataframe\">\n",
       "  <thead>\n",
       "    <tr style=\"text-align: right;\">\n",
       "      <th></th>\n",
       "      <th>centre</th>\n",
       "      <th>annee</th>\n",
       "      <th>mois</th>\n",
       "      <th>impot_1</th>\n",
       "      <th>impot_2</th>\n",
       "      <th>impot_3</th>\n",
       "      <th>total</th>\n",
       "    </tr>\n",
       "  </thead>\n",
       "  <tbody>\n",
       "    <tr>\n",
       "      <th>0</th>\n",
       "      <td>1</td>\n",
       "      <td>2013</td>\n",
       "      <td>1</td>\n",
       "      <td>0</td>\n",
       "      <td>120147880</td>\n",
       "      <td>16345581</td>\n",
       "      <td>206297632</td>\n",
       "    </tr>\n",
       "    <tr>\n",
       "      <th>1</th>\n",
       "      <td>2</td>\n",
       "      <td>2013</td>\n",
       "      <td>1</td>\n",
       "      <td>3859547</td>\n",
       "      <td>465166720</td>\n",
       "      <td>159782144</td>\n",
       "      <td>801838208</td>\n",
       "    </tr>\n",
       "    <tr>\n",
       "      <th>2</th>\n",
       "      <td>3</td>\n",
       "      <td>2013</td>\n",
       "      <td>1</td>\n",
       "      <td>13285397</td>\n",
       "      <td>834311232</td>\n",
       "      <td>578353792</td>\n",
       "      <td>1961875712</td>\n",
       "    </tr>\n",
       "  </tbody>\n",
       "</table>\n",
       "</div>"
      ],
      "text/plain": [
       "   centre  annee  mois   impot_1    impot_2    impot_3       total\n",
       "0       1   2013     1         0  120147880   16345581   206297632\n",
       "1       2   2013     1   3859547  465166720  159782144   801838208\n",
       "2       3   2013     1  13285397  834311232  578353792  1961875712"
      ]
     },
     "execution_count": 3,
     "metadata": {},
     "output_type": "execute_result"
    }
   ],
   "source": [
    "recettes_fiscales.head(3)"
   ]
  },
  {
   "cell_type": "code",
   "execution_count": 4,
   "metadata": {},
   "outputs": [
    {
     "name": "stdout",
     "output_type": "stream",
     "text": [
      "<class 'pandas.core.frame.DataFrame'>\n",
      "RangeIndex: 1512 entries, 0 to 1511\n",
      "Data columns (total 7 columns):\n",
      " #   Column   Non-Null Count  Dtype\n",
      "---  ------   --------------  -----\n",
      " 0   centre   1512 non-null   int64\n",
      " 1   annee    1512 non-null   int64\n",
      " 2   mois     1512 non-null   int64\n",
      " 3   impot_1  1512 non-null   int64\n",
      " 4   impot_2  1512 non-null   int64\n",
      " 5   impot_3  1512 non-null   int64\n",
      " 6   total    1512 non-null   int64\n",
      "dtypes: int64(7)\n",
      "memory usage: 82.8 KB\n"
     ]
    }
   ],
   "source": [
    "recettes_fiscales.info()"
   ]
  },
  {
   "attachments": {},
   "cell_type": "markdown",
   "metadata": {},
   "source": [
    "### Q2: Aggregate data to move from a month-year-center table to a year-center table"
   ]
  },
  {
   "cell_type": "code",
   "execution_count": 6,
   "metadata": {},
   "outputs": [],
   "source": [
    "#Let's aggregate data to move from a month-year-center table to a year-center table\n",
    "recettes_fiscales_aggregate=recettes_fiscales.groupby(['annee','centre']).sum().reset_index()"
   ]
  },
  {
   "cell_type": "code",
   "execution_count": 7,
   "metadata": {},
   "outputs": [
    {
     "data": {
      "text/html": [
       "<div>\n",
       "<style scoped>\n",
       "    .dataframe tbody tr th:only-of-type {\n",
       "        vertical-align: middle;\n",
       "    }\n",
       "\n",
       "    .dataframe tbody tr th {\n",
       "        vertical-align: top;\n",
       "    }\n",
       "\n",
       "    .dataframe thead th {\n",
       "        text-align: right;\n",
       "    }\n",
       "</style>\n",
       "<table border=\"1\" class=\"dataframe\">\n",
       "  <thead>\n",
       "    <tr style=\"text-align: right;\">\n",
       "      <th></th>\n",
       "      <th>annee</th>\n",
       "      <th>centre</th>\n",
       "      <th>mois</th>\n",
       "      <th>impot_1</th>\n",
       "      <th>impot_2</th>\n",
       "      <th>impot_3</th>\n",
       "      <th>total</th>\n",
       "    </tr>\n",
       "  </thead>\n",
       "  <tbody>\n",
       "    <tr>\n",
       "      <th>0</th>\n",
       "      <td>2013</td>\n",
       "      <td>1</td>\n",
       "      <td>78</td>\n",
       "      <td>55394905</td>\n",
       "      <td>309958824</td>\n",
       "      <td>597913731</td>\n",
       "      <td>1748073296</td>\n",
       "    </tr>\n",
       "    <tr>\n",
       "      <th>1</th>\n",
       "      <td>2013</td>\n",
       "      <td>2</td>\n",
       "      <td>78</td>\n",
       "      <td>779530918</td>\n",
       "      <td>6735125728</td>\n",
       "      <td>1971907968</td>\n",
       "      <td>13636057600</td>\n",
       "    </tr>\n",
       "    <tr>\n",
       "      <th>2</th>\n",
       "      <td>2013</td>\n",
       "      <td>3</td>\n",
       "      <td>78</td>\n",
       "      <td>3996097849</td>\n",
       "      <td>10236036032</td>\n",
       "      <td>10838090528</td>\n",
       "      <td>34062735616</td>\n",
       "    </tr>\n",
       "    <tr>\n",
       "      <th>3</th>\n",
       "      <td>2013</td>\n",
       "      <td>4</td>\n",
       "      <td>78</td>\n",
       "      <td>21266496</td>\n",
       "      <td>142619479</td>\n",
       "      <td>574537624</td>\n",
       "      <td>922423802</td>\n",
       "    </tr>\n",
       "    <tr>\n",
       "      <th>4</th>\n",
       "      <td>2013</td>\n",
       "      <td>5</td>\n",
       "      <td>78</td>\n",
       "      <td>406381013</td>\n",
       "      <td>1769891816</td>\n",
       "      <td>1069279772</td>\n",
       "      <td>6711063008</td>\n",
       "    </tr>\n",
       "    <tr>\n",
       "      <th>...</th>\n",
       "      <td>...</td>\n",
       "      <td>...</td>\n",
       "      <td>...</td>\n",
       "      <td>...</td>\n",
       "      <td>...</td>\n",
       "      <td>...</td>\n",
       "      <td>...</td>\n",
       "    </tr>\n",
       "    <tr>\n",
       "      <th>121</th>\n",
       "      <td>2019</td>\n",
       "      <td>14</td>\n",
       "      <td>78</td>\n",
       "      <td>302170438</td>\n",
       "      <td>807930168</td>\n",
       "      <td>989648006</td>\n",
       "      <td>6787434592</td>\n",
       "    </tr>\n",
       "    <tr>\n",
       "      <th>122</th>\n",
       "      <td>2019</td>\n",
       "      <td>15</td>\n",
       "      <td>78</td>\n",
       "      <td>209591973</td>\n",
       "      <td>1367103264</td>\n",
       "      <td>821453768</td>\n",
       "      <td>3634728016</td>\n",
       "    </tr>\n",
       "    <tr>\n",
       "      <th>123</th>\n",
       "      <td>2019</td>\n",
       "      <td>16</td>\n",
       "      <td>78</td>\n",
       "      <td>77705905</td>\n",
       "      <td>512599708</td>\n",
       "      <td>776757911</td>\n",
       "      <td>3081042224</td>\n",
       "    </tr>\n",
       "    <tr>\n",
       "      <th>124</th>\n",
       "      <td>2019</td>\n",
       "      <td>17</td>\n",
       "      <td>78</td>\n",
       "      <td>915203714</td>\n",
       "      <td>1501248992</td>\n",
       "      <td>1328426604</td>\n",
       "      <td>9594600544</td>\n",
       "    </tr>\n",
       "    <tr>\n",
       "      <th>125</th>\n",
       "      <td>2019</td>\n",
       "      <td>18</td>\n",
       "      <td>78</td>\n",
       "      <td>51798275</td>\n",
       "      <td>767621704</td>\n",
       "      <td>569228420</td>\n",
       "      <td>2515133504</td>\n",
       "    </tr>\n",
       "  </tbody>\n",
       "</table>\n",
       "<p>126 rows × 7 columns</p>\n",
       "</div>"
      ],
      "text/plain": [
       "     annee  centre  mois     impot_1      impot_2      impot_3        total\n",
       "0     2013       1    78    55394905    309958824    597913731   1748073296\n",
       "1     2013       2    78   779530918   6735125728   1971907968  13636057600\n",
       "2     2013       3    78  3996097849  10236036032  10838090528  34062735616\n",
       "3     2013       4    78    21266496    142619479    574537624    922423802\n",
       "4     2013       5    78   406381013   1769891816   1069279772   6711063008\n",
       "..     ...     ...   ...         ...          ...          ...          ...\n",
       "121   2019      14    78   302170438    807930168    989648006   6787434592\n",
       "122   2019      15    78   209591973   1367103264    821453768   3634728016\n",
       "123   2019      16    78    77705905    512599708    776757911   3081042224\n",
       "124   2019      17    78   915203714   1501248992   1328426604   9594600544\n",
       "125   2019      18    78    51798275    767621704    569228420   2515133504\n",
       "\n",
       "[126 rows x 7 columns]"
      ]
     },
     "execution_count": 7,
     "metadata": {},
     "output_type": "execute_result"
    }
   ],
   "source": [
    "recettes_fiscales_aggregate"
   ]
  },
  {
   "attachments": {},
   "cell_type": "markdown",
   "metadata": {},
   "source": [
    "### Q3 (FREE): Create a few clean and readable graphs to extract the most relevant information from this ### table on tax revenues, their evolution and their breakdown. \n",
    "### Accompany the code here for each graph with a commentary to help read the graph and explain the main ### message(s) to remember.\n"
   ]
  },
  {
   "cell_type": "code",
   "execution_count": 9,
   "metadata": {},
   "outputs": [
    {
     "data": {
      "image/png": "[encoded data removed]",
      "text/plain": [
       "<Figure size 1080x720 with 1 Axes>"
      ]
     },
     "metadata": {},
     "output_type": "display_data"
    }
   ],
   "source": [
    "#Let's create a graph that shows the evolution of tax revenues per fiscal center\n",
    "import matplotlib.pyplot as plt\n",
    "import seaborn as sns\n",
    "sns.set(style=\"whitegrid\")\n",
    "plt.figure(figsize=(15, 10))\n",
    "ax = sns.barplot(x=\"centre\", y=\"total\", hue=\"annee\", data=recettes_fiscales_aggregate)\n",
    "plt.title('Evolution of tax revenues per fiscal center')\n",
    "plt.show()\n"
   ]
  },
  {
   "cell_type": "code",
   "execution_count": 10,
   "metadata": {},
   "outputs": [
    {
     "data": {
      "image/png": "[encoded data removed]",
      "text/plain": [
       "<Figure size 1080x720 with 1 Axes>"
      ]
     },
     "metadata": {},
     "output_type": "display_data"
    }
   ],
   "source": [
    "#Let's create a line chart that shows the evolution of tax revenues(the field total) per year\n",
    "plt.figure(figsize=(15, 10))\n",
    "ax = sns.lineplot(x=\"annee\", y=\"total\", data=recettes_fiscales_aggregate)\n",
    "plt.title('Evolution of tax revenues per year')\n",
    "plt.show()"
   ]
  }
 ],
 "metadata": {
  "kernelspec": {
   "display_name": "Python 3",
   "language": "python",
   "name": "python3"
  },
  "language_info": {
   "codemirror_mode": {
    "name": "ipython",
    "version": 3
   },
   "file_extension": ".py",
   "mimetype": "text/x-python",
   "name": "python",
   "nbconvert_exporter": "python",
   "pygments_lexer": "ipython3",
   "version": "3.10.5"
  },
  "orig_nbformat": 4
 },
 "nbformat": 4,
 "nbformat_minor": 2
}
